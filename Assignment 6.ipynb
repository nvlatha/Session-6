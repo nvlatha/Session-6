{
 "cells": [
  {
   "cell_type": "code",
   "execution_count": 2,
   "metadata": {},
   "outputs": [
    {
     "data": {
      "text/plain": [
       "array([[1, 1, 1],\n",
       "       [1, 2, 4],\n",
       "       [1, 3, 9]])"
      ]
     },
     "execution_count": 2,
     "metadata": {},
     "output_type": "execute_result"
    }
   ],
   "source": [
    "#Assignment 6:\n",
    "# Import the Numpy and use the vader function. This takes 3 inputs\n",
    "# numpy.vander(x, N=None, increasing=False)\n",
    "# 1. Array, 2. No of columns but optional 3.Increasing or decreasing powers of colun\n",
    "# Code for increasing lef to right\n",
    "import numpy as np\n",
    "x = np.array([1, 2, 3])\n",
    "N = 3\n",
    "np.vander(x, N,True)\n",
    " "
   ]
  },
  {
   "cell_type": "code",
   "execution_count": 3,
   "metadata": {},
   "outputs": [
    {
     "data": {
      "text/plain": [
       "array([[ 1,  1,  1],\n",
       "       [ 4,  2,  1],\n",
       "       [ 9,  3,  1],\n",
       "       [25,  5,  1]])"
      ]
     },
     "execution_count": 3,
     "metadata": {},
     "output_type": "execute_result"
    }
   ],
   "source": [
    "#Assignment 6:\n",
    "# Import the Numpy and use the vader function. This takes 3 inputs\n",
    "# numpy.vander(x, N=None, increasing=False)\n",
    "# 1. Array, 2. No of columns but optional 3.Increasing or decreasing powers of colun\n",
    "# Code for right to left\n",
    "import numpy as np\n",
    "x = np.array([1, 2, 3, 5])\n",
    "np.vander(x, N, False)\n",
    " "
   ]
  },
  {
   "cell_type": "code",
   "execution_count": 4,
   "metadata": {},
   "outputs": [
    {
     "data": {
      "text/plain": [
       "array([[ 1,  1,  1],\n",
       "       [ 4,  2,  1],\n",
       "       [ 9,  3,  1],\n",
       "       [25,  5,  1]], dtype=int32)"
      ]
     },
     "execution_count": 4,
     "metadata": {},
     "output_type": "execute_result"
    }
   ],
   "source": [
    "#Assignment 6:\n",
    "# Import the Numpy and column_stack function\n",
    "# This takes the single dimentional array and converts to 2 dimentional array Beloe are differnt options in stack\n",
    "# stack - Join a sequence of arrays along a new axis.\n",
    "# vstack- Stack arrays in sequence vertically (row wise).\n",
    "# dstack - Stack arrays in sequence depth wise (along third axis).\n",
    "# concatenate - Join a sequence of arrays along an existing axis.\n",
    "# hsplit - Split array along second axis.\n",
    "# block - Assemble arrays from blocks.\n",
    "\n",
    "np.column_stack([x**(N-1-i) for i in range(N)])"
   ]
  },
  {
   "cell_type": "code",
   "execution_count": null,
   "metadata": {},
   "outputs": [],
   "source": []
  }
 ],
 "metadata": {
  "kernelspec": {
   "display_name": "Python 3",
   "language": "python",
   "name": "python3"
  },
  "language_info": {
   "codemirror_mode": {
    "name": "ipython",
    "version": 3
   },
   "file_extension": ".py",
   "mimetype": "text/x-python",
   "name": "python",
   "nbconvert_exporter": "python",
   "pygments_lexer": "ipython3",
   "version": "3.7.0"
  }
 },
 "nbformat": 4,
 "nbformat_minor": 2
}
